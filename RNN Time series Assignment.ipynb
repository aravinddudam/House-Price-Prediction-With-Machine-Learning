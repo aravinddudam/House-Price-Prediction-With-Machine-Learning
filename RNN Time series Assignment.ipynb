{
 "cells": [
  {
   "cell_type": "markdown",
   "id": "a76971b2",
   "metadata": {},
   "source": [
    "# Recurrent Neural Network\n",
    "## Time Series\n",
    "\n",
    "### Assignment submitted by Aravind Dudam\n",
    "\n",
    "### In this notebook, we will predict the 10-day closing stock price of Tesla from the closing prices of the past nine days."
   ]
  },
  {
   "cell_type": "markdown",
   "id": "f2b62ad1",
   "metadata": {},
   "source": [
    "## Importing Libraries"
   ]
  },
  {
   "cell_type": "code",
   "execution_count": 126,
   "id": "e9d50f27",
   "metadata": {},
   "outputs": [],
   "source": [
    "import numpy as np\n",
    "import pandas as pd\n",
    "import os\n",
    "import matplotlib as mpl\n",
    "import matplotlib.pyplot as plt\n",
    "from sklearn.model_selection import train_test_split\n",
    "from sklearn.preprocessing import MinMaxScaler\n",
    "from sklearn.metrics import mean_squared_error\n",
    "from sklearn.linear_model import LinearRegression\n",
    "from sklearn.model_selection import TimeSeriesSplit\n",
    "import tensorflow as tf\n",
    "from tensorflow import keras\n",
    "\n",
    "# Set random seed\n",
    "np.random.seed(42)\n",
    "\n",
    "# Configure plotting settings\n",
    "mpl.rc('axes', labelsize=14)\n",
    "mpl.rc('xtick', labelsize=12)\n",
    "mpl.rc('ytick', labelsize=12)\n",
    "%matplotlib inline\n",
    "\n",
    "# Additional imports\n",
    "from sklearn.metrics import mean_squared_error\n"
   ]
  },
  {
   "cell_type": "markdown",
   "id": "d913e39f",
   "metadata": {},
   "source": [
    "## Load the data"
   ]
  },
  {
   "cell_type": "code",
   "execution_count": 153,
   "id": "83f271cd",
   "metadata": {},
   "outputs": [],
   "source": [
    "# Load the data into a pandas dataframe\n",
    "stock = pd.read_csv('Downloads/TSLA.csv')"
   ]
  },
  {
   "cell_type": "code",
   "execution_count": 154,
   "id": "231a87d4",
   "metadata": {},
   "outputs": [
    {
     "data": {
      "text/html": [
       "<div>\n",
       "<style scoped>\n",
       "    .dataframe tbody tr th:only-of-type {\n",
       "        vertical-align: middle;\n",
       "    }\n",
       "\n",
       "    .dataframe tbody tr th {\n",
       "        vertical-align: top;\n",
       "    }\n",
       "\n",
       "    .dataframe thead th {\n",
       "        text-align: right;\n",
       "    }\n",
       "</style>\n",
       "<table border=\"1\" class=\"dataframe\">\n",
       "  <thead>\n",
       "    <tr style=\"text-align: right;\">\n",
       "      <th></th>\n",
       "      <th>Date</th>\n",
       "      <th>Open</th>\n",
       "      <th>High</th>\n",
       "      <th>Low</th>\n",
       "      <th>Close</th>\n",
       "      <th>Adj Close</th>\n",
       "      <th>Volume</th>\n",
       "    </tr>\n",
       "  </thead>\n",
       "  <tbody>\n",
       "    <tr>\n",
       "      <th>0</th>\n",
       "      <td>4/19/2022</td>\n",
       "      <td>335.019989</td>\n",
       "      <td>344.980011</td>\n",
       "      <td>331.776672</td>\n",
       "      <td>342.716675</td>\n",
       "      <td>342.716675</td>\n",
       "      <td>49847700</td>\n",
       "    </tr>\n",
       "    <tr>\n",
       "      <th>1</th>\n",
       "      <td>4/20/2022</td>\n",
       "      <td>343.333344</td>\n",
       "      <td>344.666656</td>\n",
       "      <td>325.083344</td>\n",
       "      <td>325.733337</td>\n",
       "      <td>325.733337</td>\n",
       "      <td>70711200</td>\n",
       "    </tr>\n",
       "    <tr>\n",
       "      <th>2</th>\n",
       "      <td>4/21/2022</td>\n",
       "      <td>358.243347</td>\n",
       "      <td>364.073334</td>\n",
       "      <td>332.140015</td>\n",
       "      <td>336.260010</td>\n",
       "      <td>336.260010</td>\n",
       "      <td>105416400</td>\n",
       "    </tr>\n",
       "    <tr>\n",
       "      <th>3</th>\n",
       "      <td>4/22/2022</td>\n",
       "      <td>338.303345</td>\n",
       "      <td>344.950012</td>\n",
       "      <td>331.333344</td>\n",
       "      <td>335.016663</td>\n",
       "      <td>335.016663</td>\n",
       "      <td>69696600</td>\n",
       "    </tr>\n",
       "    <tr>\n",
       "      <th>4</th>\n",
       "      <td>4/25/2022</td>\n",
       "      <td>326.323334</td>\n",
       "      <td>336.206665</td>\n",
       "      <td>325.100006</td>\n",
       "      <td>332.673340</td>\n",
       "      <td>332.673340</td>\n",
       "      <td>68341200</td>\n",
       "    </tr>\n",
       "  </tbody>\n",
       "</table>\n",
       "</div>"
      ],
      "text/plain": [
       "        Date        Open        High         Low       Close   Adj Close  \\\n",
       "0  4/19/2022  335.019989  344.980011  331.776672  342.716675  342.716675   \n",
       "1  4/20/2022  343.333344  344.666656  325.083344  325.733337  325.733337   \n",
       "2  4/21/2022  358.243347  364.073334  332.140015  336.260010  336.260010   \n",
       "3  4/22/2022  338.303345  344.950012  331.333344  335.016663  335.016663   \n",
       "4  4/25/2022  326.323334  336.206665  325.100006  332.673340  332.673340   \n",
       "\n",
       "      Volume  \n",
       "0   49847700  \n",
       "1   70711200  \n",
       "2  105416400  \n",
       "3   69696600  \n",
       "4   68341200  "
      ]
     },
     "execution_count": 154,
     "metadata": {},
     "output_type": "execute_result"
    }
   ],
   "source": [
    "stock.head()"
   ]
  },
  {
   "cell_type": "code",
   "execution_count": 155,
   "id": "40db5d55",
   "metadata": {},
   "outputs": [],
   "source": [
    "# Set the date column as the index\n",
    "stock.set_index('Date', inplace=True)"
   ]
  },
  {
   "cell_type": "code",
   "execution_count": 156,
   "id": "a9f3a6f6",
   "metadata": {},
   "outputs": [],
   "source": [
    "# Define the number of days to use for prediction\n",
    "n_past_days = 9\n",
    "n_future_days = 10"
   ]
  },
  {
   "cell_type": "code",
   "execution_count": 157,
   "id": "55a86b63",
   "metadata": {},
   "outputs": [],
   "source": [
    "#Drop the columns we don't need\n",
    "stock = stock.drop(['Open', 'High', 'Low', 'Adj Close', 'Volume'], axis=1)"
   ]
  },
  {
   "cell_type": "code",
   "execution_count": 158,
   "id": "6154f8d9",
   "metadata": {},
   "outputs": [
    {
     "data": {
      "text/html": [
       "<div>\n",
       "<style scoped>\n",
       "    .dataframe tbody tr th:only-of-type {\n",
       "        vertical-align: middle;\n",
       "    }\n",
       "\n",
       "    .dataframe tbody tr th {\n",
       "        vertical-align: top;\n",
       "    }\n",
       "\n",
       "    .dataframe thead th {\n",
       "        text-align: right;\n",
       "    }\n",
       "</style>\n",
       "<table border=\"1\" class=\"dataframe\">\n",
       "  <thead>\n",
       "    <tr style=\"text-align: right;\">\n",
       "      <th></th>\n",
       "      <th>Close</th>\n",
       "    </tr>\n",
       "    <tr>\n",
       "      <th>Date</th>\n",
       "      <th></th>\n",
       "    </tr>\n",
       "  </thead>\n",
       "  <tbody>\n",
       "    <tr>\n",
       "      <th>4/19/2022</th>\n",
       "      <td>342.716675</td>\n",
       "    </tr>\n",
       "    <tr>\n",
       "      <th>4/20/2022</th>\n",
       "      <td>325.733337</td>\n",
       "    </tr>\n",
       "    <tr>\n",
       "      <th>4/21/2022</th>\n",
       "      <td>336.260010</td>\n",
       "    </tr>\n",
       "    <tr>\n",
       "      <th>4/22/2022</th>\n",
       "      <td>335.016663</td>\n",
       "    </tr>\n",
       "    <tr>\n",
       "      <th>4/25/2022</th>\n",
       "      <td>332.673340</td>\n",
       "    </tr>\n",
       "    <tr>\n",
       "      <th>...</th>\n",
       "      <td>...</td>\n",
       "    </tr>\n",
       "    <tr>\n",
       "      <th>4/13/2023</th>\n",
       "      <td>185.899994</td>\n",
       "    </tr>\n",
       "    <tr>\n",
       "      <th>4/14/2023</th>\n",
       "      <td>185.000000</td>\n",
       "    </tr>\n",
       "    <tr>\n",
       "      <th>4/17/2023</th>\n",
       "      <td>187.039993</td>\n",
       "    </tr>\n",
       "    <tr>\n",
       "      <th>4/18/2023</th>\n",
       "      <td>184.309998</td>\n",
       "    </tr>\n",
       "    <tr>\n",
       "      <th>4/19/2023</th>\n",
       "      <td>180.589996</td>\n",
       "    </tr>\n",
       "  </tbody>\n",
       "</table>\n",
       "<p>252 rows × 1 columns</p>\n",
       "</div>"
      ],
      "text/plain": [
       "                Close\n",
       "Date                 \n",
       "4/19/2022  342.716675\n",
       "4/20/2022  325.733337\n",
       "4/21/2022  336.260010\n",
       "4/22/2022  335.016663\n",
       "4/25/2022  332.673340\n",
       "...               ...\n",
       "4/13/2023  185.899994\n",
       "4/14/2023  185.000000\n",
       "4/17/2023  187.039993\n",
       "4/18/2023  184.309998\n",
       "4/19/2023  180.589996\n",
       "\n",
       "[252 rows x 1 columns]"
      ]
     },
     "execution_count": 158,
     "metadata": {},
     "output_type": "execute_result"
    }
   ],
   "source": [
    "stock"
   ]
  },
  {
   "cell_type": "code",
   "execution_count": 159,
   "id": "87e1d183",
   "metadata": {},
   "outputs": [
    {
     "data": {
      "image/png": "[encoded data removed]",
      "text/plain": [
       "<Figure size 640x480 with 1 Axes>"
      ]
     },
     "metadata": {},
     "output_type": "display_data"
    }
   ],
   "source": [
    "#Plot stock price\n",
    "plt.plot(stock['Close'])\n",
    "plt.show()"
   ]
  },
  {
   "cell_type": "code",
   "execution_count": 160,
   "id": "fd0c1134",
   "metadata": {},
   "outputs": [],
   "source": [
    "# Remove all null values\n",
    "stock = stock.dropna()"
   ]
  },
  {
   "cell_type": "code",
   "execution_count": 161,
   "id": "7690d5f4",
   "metadata": {},
   "outputs": [],
   "source": [
    "# Rounding off to 1 decimal value\n",
    "stock['Close'] = stock['Close'].round(1)"
   ]
  },
  {
   "cell_type": "code",
   "execution_count": 162,
   "id": "f4dfdce7",
   "metadata": {},
   "outputs": [
    {
     "data": {
      "text/html": [
       "<div>\n",
       "<style scoped>\n",
       "    .dataframe tbody tr th:only-of-type {\n",
       "        vertical-align: middle;\n",
       "    }\n",
       "\n",
       "    .dataframe tbody tr th {\n",
       "        vertical-align: top;\n",
       "    }\n",
       "\n",
       "    .dataframe thead th {\n",
       "        text-align: right;\n",
       "    }\n",
       "</style>\n",
       "<table border=\"1\" class=\"dataframe\">\n",
       "  <thead>\n",
       "    <tr style=\"text-align: right;\">\n",
       "      <th></th>\n",
       "      <th>Close</th>\n",
       "    </tr>\n",
       "    <tr>\n",
       "      <th>Date</th>\n",
       "      <th></th>\n",
       "    </tr>\n",
       "  </thead>\n",
       "  <tbody>\n",
       "    <tr>\n",
       "      <th>4/19/2022</th>\n",
       "      <td>342.7</td>\n",
       "    </tr>\n",
       "    <tr>\n",
       "      <th>4/20/2022</th>\n",
       "      <td>325.7</td>\n",
       "    </tr>\n",
       "    <tr>\n",
       "      <th>4/21/2022</th>\n",
       "      <td>336.3</td>\n",
       "    </tr>\n",
       "    <tr>\n",
       "      <th>4/22/2022</th>\n",
       "      <td>335.0</td>\n",
       "    </tr>\n",
       "    <tr>\n",
       "      <th>4/25/2022</th>\n",
       "      <td>332.7</td>\n",
       "    </tr>\n",
       "    <tr>\n",
       "      <th>...</th>\n",
       "      <td>...</td>\n",
       "    </tr>\n",
       "    <tr>\n",
       "      <th>4/13/2023</th>\n",
       "      <td>185.9</td>\n",
       "    </tr>\n",
       "    <tr>\n",
       "      <th>4/14/2023</th>\n",
       "      <td>185.0</td>\n",
       "    </tr>\n",
       "    <tr>\n",
       "      <th>4/17/2023</th>\n",
       "      <td>187.0</td>\n",
       "    </tr>\n",
       "    <tr>\n",
       "      <th>4/18/2023</th>\n",
       "      <td>184.3</td>\n",
       "    </tr>\n",
       "    <tr>\n",
       "      <th>4/19/2023</th>\n",
       "      <td>180.6</td>\n",
       "    </tr>\n",
       "  </tbody>\n",
       "</table>\n",
       "<p>252 rows × 1 columns</p>\n",
       "</div>"
      ],
      "text/plain": [
       "           Close\n",
       "Date            \n",
       "4/19/2022  342.7\n",
       "4/20/2022  325.7\n",
       "4/21/2022  336.3\n",
       "4/22/2022  335.0\n",
       "4/25/2022  332.7\n",
       "...          ...\n",
       "4/13/2023  185.9\n",
       "4/14/2023  185.0\n",
       "4/17/2023  187.0\n",
       "4/18/2023  184.3\n",
       "4/19/2023  180.6\n",
       "\n",
       "[252 rows x 1 columns]"
      ]
     },
     "execution_count": 162,
     "metadata": {},
     "output_type": "execute_result"
    }
   ],
   "source": [
    "stock"
   ]
  },
  {
   "cell_type": "code",
   "execution_count": 163,
   "id": "5d5f0978",
   "metadata": {},
   "outputs": [
    {
     "data": {
      "text/plain": [
       "(252, 1)"
      ]
     },
     "execution_count": 163,
     "metadata": {},
     "output_type": "execute_result"
    }
   ],
   "source": [
    "# Reshape the data\n",
    "stock.shape"
   ]
  },
  {
   "cell_type": "code",
   "execution_count": 164,
   "id": "f79fbe5f",
   "metadata": {},
   "outputs": [],
   "source": [
    "# Remove the rows with missing values\n",
    "data.dropna(inplace=True)"
   ]
  },
  {
   "cell_type": "code",
   "execution_count": 165,
   "id": "f22b5621",
   "metadata": {},
   "outputs": [],
   "source": [
    "# Create a new DataFrame with the closing prices of the past n_past_days\n",
    "data = pd.DataFrame(index=stock.index)\n",
    "for i in range(n_past_days):\n",
    "    data[f'past_{i+1}'] = stock['Close'].shift(i+1)\n",
    "\n",
    "# Add the target variable (i.e., the closing price n_future_days in the future)\n",
    "data['target'] = stock['Close'].shift(-n_future_days)"
   ]
  },
  {
   "cell_type": "code",
   "execution_count": 166,
   "id": "7bc0b514",
   "metadata": {},
   "outputs": [],
   "source": [
    "# Split the data into train and test sets using a chronological split\n",
    "train_size = int(len(data) * 0.8)\n",
    "train_data = data.iloc[:train_size]\n",
    "test_data = data.iloc[train_size:]"
   ]
  },
  {
   "cell_type": "code",
   "execution_count": 167,
   "id": "e3296780",
   "metadata": {},
   "outputs": [],
   "source": [
    "# Scale the data to the range [0, 1]\n",
    "scaler = MinMaxScaler()\n",
    "train_data = scaler.fit_transform(train_data)\n",
    "test_data = scaler.transform(test_data)"
   ]
  },
  {
   "cell_type": "code",
   "execution_count": 168,
   "id": "a9357bfa",
   "metadata": {},
   "outputs": [],
   "source": [
    "# Prepare the data for an RNN model\n",
    "X_train = np.reshape(train_data[:, :-1], (train_data.shape[0], n_past_days, 1))\n",
    "y_train = train_data[:, -1]\n",
    "X_test = np.reshape(test_data[:, :-1], (test_data.shape[0], n_past_days, 1))\n",
    "y_test = test_data[:, -1]"
   ]
  },
  {
   "cell_type": "code",
   "execution_count": 169,
   "id": "21a44d32",
   "metadata": {},
   "outputs": [
    {
     "name": "stdout",
     "output_type": "stream",
     "text": [
      "(201, 9, 1)\n",
      "(201,)\n",
      "(51, 9, 1)\n",
      "(51,)\n"
     ]
    }
   ],
   "source": [
    "# Print the shape of the train and test input and target arrays\n",
    "print(X_train.shape)\n",
    "print(y_train.shape)\n",
    "print(X_test.shape)\n",
    "print(y_test.shape)"
   ]
  },
  {
   "cell_type": "code",
   "execution_count": 171,
   "id": "9b9bccbe",
   "metadata": {},
   "outputs": [
    {
     "data": {
      "text/plain": [
       "array([[[       nan],\n",
       "        [       nan],\n",
       "        [       nan],\n",
       "        ...,\n",
       "        [       nan],\n",
       "        [       nan],\n",
       "        [       nan]],\n",
       "\n",
       "       [[1.        ],\n",
       "        [       nan],\n",
       "        [       nan],\n",
       "        ...,\n",
       "        [       nan],\n",
       "        [       nan],\n",
       "        [       nan]],\n",
       "\n",
       "       [[0.92753623],\n",
       "        [1.        ],\n",
       "        [       nan],\n",
       "        ...,\n",
       "        [       nan],\n",
       "        [       nan],\n",
       "        [       nan]],\n",
       "\n",
       "       ...,\n",
       "\n",
       "       [[0.27749361],\n",
       "        [0.24978687],\n",
       "        [0.29752771],\n",
       "        ...,\n",
       "        [0.15217391],\n",
       "        [0.10784314],\n",
       "        [0.08141517]],\n",
       "\n",
       "       [[0.31244672],\n",
       "        [0.27749361],\n",
       "        [0.24978687],\n",
       "        ...,\n",
       "        [0.15260017],\n",
       "        [0.15217391],\n",
       "        [0.10784314]],\n",
       "\n",
       "       [[0.34185848],\n",
       "        [0.31244672],\n",
       "        [0.27749361],\n",
       "        ...,\n",
       "        [0.15473146],\n",
       "        [0.15260017],\n",
       "        [0.15217391]]])"
      ]
     },
     "execution_count": 171,
     "metadata": {},
     "output_type": "execute_result"
    }
   ],
   "source": [
    "X_train"
   ]
  },
  {
   "cell_type": "code",
   "execution_count": null,
   "id": "9d1e3232",
   "metadata": {},
   "outputs": [],
   "source": []
  },
  {
   "cell_type": "code",
   "execution_count": null,
   "id": "58cac062",
   "metadata": {},
   "outputs": [],
   "source": []
  },
  {
   "cell_type": "code",
   "execution_count": null,
   "id": "884704da",
   "metadata": {},
   "outputs": [],
   "source": []
  },
  {
   "cell_type": "code",
   "execution_count": null,
   "id": "8fe0e144",
   "metadata": {},
   "outputs": [],
   "source": []
  }
 ],
 "metadata": {
  "kernelspec": {
   "display_name": "Python 3 (ipykernel)",
   "language": "python",
   "name": "python3"
  },
  "language_info": {
   "codemirror_mode": {
    "name": "ipython",
    "version": 3
   },
   "file_extension": ".py",
   "mimetype": "text/x-python",
   "name": "python",
   "nbconvert_exporter": "python",
   "pygments_lexer": "ipython3",
   "version": "3.10.9"
  }
 },
 "nbformat": 4,
 "nbformat_minor": 5
}
